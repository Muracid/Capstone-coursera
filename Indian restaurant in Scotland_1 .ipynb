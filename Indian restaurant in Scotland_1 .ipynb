{
    "cells": [
        {
            "cell_type": "markdown",
            "metadata": {
                "collapsed": true
            },
            "source": "# Starting a new Indian restaurant in Scotland"
        },
        {
            "cell_type": "markdown",
            "metadata": {},
            "source": "### Clients request: \nA client living in scotland would like to invest some money opening an Indian restaurant, but he doesn't know where to start from. He has looked into several bit cities, such as Glasgow, Edinburgh, Stirling, Dundee, Inverness, and Aberdeen. The reason for him picking these cities are because they are major historical major cities, and attract a lot of tourists every year. He would like us to guide him in picking the most suitable city and the area of choice. "
        },
        {
            "attachments": {},
            "cell_type": "markdown",
            "metadata": {},
            "source": "### The suggested study: \nScotland is a very outgoing country with a huge imphasis on tourism. According to the Office of National Statistics(ONS), in Q2 2017 \u2013 Q1 2018 3.4 million overseas tourists visited Scotland, spending \u00a32.4 billion which was an increase of29% compared to the year before. Furthermore the food and drink industry is worth around \u00a314 billion each year and accounts for one in five manufacturing jobs in Scotland. \nOn the other hand according to the U.S. Bureau of Labor Statistics (BLS), approximately 20% of new businesses fail during the first two years of being open, 45% during the first five years, and 65% during the first 10 years.\nData from the ONS from 2018 also suggest that the food and beverage service is very competitive, as 18,820 new restaurants and mobile food services were born, and nearly as much 15,930 were observed dead. With an overall industry of 105,730 restaurant and mobile services, it's a nearly 15% of the market that is lost, and 18% of the market born.\n\nTo secure a sustainable investement several factors has to be taken into account, this includes: \n\n    1. The city where the restaurant is located (the ratio of restaurant faiclites to amount of population)\n    2. The area where the restaurant is located (the amount of resturants located in a certain area)\n    3. The type of food served (the cuisine served should be unique of least represented in the area of choice)\n    \nWith all of this criteria in mind, a set of data will be gathered and studied to demonstrate the most viable place to start a new business. \n\nThe client has decided to choose between 6 cities in Scotland (Glasgow, Edinburgh, Stirling, Dundee, Inverness, and Aberdeen), therefore data on restaurants from these cities will be collected with the location of these places on a map. Then the several criterias will be studied, such as the number of restaurants to the cities population. Are there too many resturants in a small city? or which city presents the least amount of resturants per head? The proportion of indian resturants will also be looked at and compared to the amout of people present in the city. Finally with the most appropriate city in hand, the restaurants will be clustered and the most ideal area will to open the restaurant will be defined. \n"
        },
        {
            "cell_type": "code",
            "execution_count": null,
            "metadata": {},
            "outputs": [],
            "source": ""
        }
    ],
    "metadata": {
        "kernelspec": {
            "display_name": "Python 3.6",
            "language": "python",
            "name": "python3"
        },
        "language_info": {
            "codemirror_mode": {
                "name": "ipython",
                "version": 3
            },
            "file_extension": ".py",
            "mimetype": "text/x-python",
            "name": "python",
            "nbconvert_exporter": "python",
            "pygments_lexer": "ipython3",
            "version": "3.6.9"
        }
    },
    "nbformat": 4,
    "nbformat_minor": 1
}